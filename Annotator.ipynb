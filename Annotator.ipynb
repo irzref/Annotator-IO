{
 "cells": [
  {
   "cell_type": "code",
   "execution_count": 57,
   "metadata": {},
   "outputs": [
    {
     "name": "stderr",
     "output_type": "stream",
     "text": [
      "/home/irza/anaconda3/lib/python3.6/site-packages/bs4/__init__.py:181: UserWarning: No parser was explicitly specified, so I'm using the best available HTML parser for this system (\"lxml\"). This usually isn't a problem, but if you run this code on another system, or in a different virtual environment, it may use a different parser and behave differently.\n",
      "\n",
      "The code that caused this warning is on line 193 of the file /home/irza/anaconda3/lib/python3.6/runpy.py. To get rid of this warning, change code that looks like this:\n",
      "\n",
      " BeautifulSoup(YOUR_MARKUP})\n",
      "\n",
      "to this:\n",
      "\n",
      " BeautifulSoup(YOUR_MARKUP, \"lxml\")\n",
      "\n",
      "  markup_type=markup_type))\n"
     ]
    }
   ],
   "source": [
    "from bs4 import BeautifulSoup\n",
    "import requests\n",
    "\n",
    "#result  = requests.get(\"https://en.wikipedia.org/wiki/W16_engine\")\n",
    "#result  = requests.get(\"https://en.wikipedia.org/wiki/Internal_combustion_engine\")\n",
    "result  = requests.get(\"https://en.wikipedia.org/wiki/Gas_turbine\")\n",
    "\n",
    "content = result.content\n",
    "soup = BeautifulSoup(content)"
   ]
  },
  {
   "cell_type": "code",
   "execution_count": 58,
   "metadata": {},
   "outputs": [],
   "source": [
    "#delete script tags\n",
    "for x in soup.findAll('script'):\n",
    "    x.extract()"
   ]
  },
  {
   "cell_type": "code",
   "execution_count": 59,
   "metadata": {},
   "outputs": [
    {
     "data": {
      "text/plain": [
       "'An internal combustion engine (ICE) is a heat engine where the combustion of a fuel occurs with an oxidizer (usually air) in a combustion chamber that is an integral part of the working fluid flow circuit. In an internal combustion engine, the expansion of the high-temperature and high-pressure gases produced by combustion applies direct force to some component of the engine. The force is applied typically to pistons, turbine blades, rotor or a nozzle. This force moves the component over a distance, transforming chemical energy into useful mechanical energy.The first commercially successful internal combustion engine was created by Étienne Lenoir around 1859[1] and the first modern internal combustion engine was created in 1876 by Nikolaus Otto (see Otto engine).The term internal combustion engine usually refers to an engine in which combustion is intermittent, such as the more familiar four-stroke and two-stroke piston engines, along with variants, such as the six-stroke piston engine and the Wankel rotary engine. A second class of internal combustion engines use continuous combustion: gas turbines, jet engines and most rocket engines, each of which are internal combustion engines on the same principle as previously described.[1][2] Firearms are also a form of internal combustion engine.[2]In contrast, in external combustion engines, such as steam or Stirling engines, energy is delivered to a working fluid not consisting of, mixed with, or contaminated by combustion products. Working fluids can be air, hot water, pressurized water or even liquid sodium, heated in a boiler. ICEs are usually powered by energy-dense fuels such as gasoline or diesel, liquids derived from fossil fuels. While there are many stationary applications, most ICEs are used in mobile applications and are the dominant power supply for vehicles such as cars, aircraft, and boats.Typically an ICE is fed with fossil fuels like natural gas or petroleum products such as gasoline, diesel fuel or fuel oil. There is a growing usage of renewable fuels like biodiesel for compression ignition engines and bioethanol or methanol for spark ignition engines. Hydrogen is sometimes used, and can be obtained from either fossil fuels or renewable energy.Various scientists and engineers contributed to the development of internal combustion engines. In 1791, John Barber developed the gas turbine. In 1794 Thomas Mead patented a gas engine. Also in 1794, Robert Street patented an internal combustion engine, which was also the first to use liquid fuel, and built an engine around that time. In 1798, John Stevens built the first American internal combustion engine. In 1807, French engineers Nicéphore (who went on to invent photography) and Claude Niépce ran a prototype internal combustion engine, using controlled dust explosions, the Pyréolophore. This engine powered a boat on the Saône river, France. The same year, the Swiss engineer François Isaac de Rivaz built an internal combustion engine ignited by an electric spark. In 1823, Samuel Brown patented the first internal combustion engine to be applied industrially.In 1854 in the UK, the Italian inventors Eugenio Barsanti and Felice Matteucci tried to patent \"Obtaining motive power by the explosion of gases\", although the application did not progress to the granted stage.[3] In 1860, Belgian Jean Joseph Etienne Lenoir produced a gas-fired internal combustion engine. In 1864, Nikolaus Otto patented the first atmospheric gas engine. In 1872, American George Brayton invented the first commercial liquid-fuelled internal combustion engine. In 1876, Nikolaus Otto, working with Gottlieb Daimler and Wilhelm Maybach, patented the compressed charge, four-cycle engine. In 1879, Karl Benz patented a reliable two-stroke gasoline engine. Later, in 1886, Karl Benz began the first commercial production of motor vehicles with the internal combustion engine. In 1892, Rudolf Diesel developed the first compressed charge, compression ignition engine. In 1926, Robert Goddard launched the first liquid-fueled rocket. In 1939, the Heinkel He 178 became the world\\'s first jet aircraft.At one time, the word engine (via Old French, from Latin ingenium, \"ability\") meant any piece of machinery — a sense that persists in expressions such as siege engine. A \"motor\" (from Latin motor, \"mover\") is any machine that produces mechanical power. Traditionally, electric motors are not referred to as \"engines\"; however, combustion engines are often referred to as \"motors.\" (An electric engine refers to a locomotive operated by electricity.)In boating an internal combustion engine that is installed in the hull is referred to as an engine, but the engines that sit on the transom are referred to as motors.[4]Reciprocating piston engines are by far the most common power source for land and water vehicles, including automobiles, motorcycles, ships and to a lesser extent, locomotives (some are electrical but most use Diesel engines[5][6]). Rotary engines of the Wankel design are used in some automobiles, aircraft and motorcycles.Where high power-to-weight ratios are required, internal combustion engines appear in the form of combustion turbines or Wankel engines. Powered aircraft typically uses an ICE which may be a reciprocating engine. Airplanes can instead use jet engines and helicopters can instead employ turboshafts; both of which are types of turbines. In addition to providing propulsion, airliners may employ a separate ICE as an auxiliary power unit. Wankel engines are fitted to many unmanned aerial vehicles.ICEs drive some of the large electric generators that power electrical grids. They are found in the form of combustion turbines in combined cycle power plants with a typical electrical output in the range of 100\\xa0MW to 1\\xa0GW. The high temperature exhaust is used to boil and superheat water to run a steam turbine. Thus, the efficiency is higher because more energy is extracted from the fuel than what could be extracted by the combustion turbine alone. In combined cycle power plants efficiencies in the range of 50% to 60% are typical. In a smaller scale Diesel generators are used for backup power and for providing electrical power to areas not connected to an electric grid.Small engines (usually 2‐stroke gasoline engines) are a common power source for lawnmowers, string trimmers, chain saws, leafblowers, pressure washers, snowmobiles, jet skis, outboard motors, mopeds, and motorcycles.There are several possible ways to classify internal combustion engines.The base of a reciprocating internal combustion engine is the engine block, which is typically made of cast iron or aluminium. The engine block contains the cylinders. In engines with more than one cylinder they are usually arranged either in 1 row (straight engine) or 2 rows (boxer engine or V engine); 3 rows are occasionally used (W engine) in contemporary engines, and other engine configurations are possible and have been used. Single cylinder engines are common for motorcycles and in small engines of machinery. Water-cooled engines contain passages in the engine block where cooling fluid circulates (the water jacket). Some small engines are air-cooled, and instead of having a water jacket the cylinder block has fins protruding away from it to cool by directly transferring heat to the air. The cylinder walls are usually finished by honing to obtain a cross hatch, which is better able to retain the oil. A too rough surface would quickly harm the engine by excessive wear on the piston.The pistons are short cylindrical parts which seal one end of the cylinder from the high pressure of the compressed air and combustion products and slide continuously within it while the engine is in operation. The top wall of the piston is termed its crown and is typically flat or concave. Some two-stroke engines use pistons with a deflector head. Pistons are open at the bottom and hollow except for an integral reinforcement structure (the piston web). When an engine is working the gas pressure in the combustion chamber exerts a force on the piston crown which is transferred through its web to a gudgeon pin. Each piston has rings fitted around its circumference that mostly prevent the gases from leaking into the crankcase or the oil into the combustion chamber. A ventilation system drives the small amount of gas that escape past the pistons during normal operation (the blow-by gases) out of the crankcase so that it does not accumulate contaminating the oil and creating corrosion. In two-stroke gasoline engines the crankcase is part of the air–fuel path and due to the continuous flow of it they do not need a separate crankcase ventilation system.The cylinder head is attached to the engine block by numerous bolts or studs. It has several functions. The cylinder head seals the cylinders on the side opposite to the pistons; it contains short ducts (the ports) for intake and exhaust and the associated intake valves that open to let the cylinder be filled with fresh air and exhaust valves that open to allow the combustion gases to escape. However, 2-stroke crankcase scavenged engines connect the gas ports directly to the cylinder wall without poppet valves; the piston controls their opening and occlusion instead. The cylinder head also holds the spark plug in the case of spark ignition engines and the injector for engines that use direct injection. All CI engines use fuel injection, usually direct injection but some engines instead use indirect injection. SI engines can use a carburetor or fuel injection as port injection or direct injection. Most SI engines have a single spark plug per cylinder but some have 2. A head gasket prevents the gas from leaking between the cylinder head and the engine block. The opening and closing of the valves is controlled by one or several camshafts and springs—or in some engines—a desmodromic mechanism that uses no springs. The camshaft may press directly the stem of the valve or may act upon a rocker arm, again, either directly or through a pushrod.The crankcase is sealed at the bottom with a sump that collects the falling oil during normal operation to be cycled again. The cavity created between the cylinder block and the sump houses a crankshaft that converts the reciprocating motion of the pistons to rotational motion. The crankshaft is held in place relative to the engine block by main bearings, which allow it to rotate. Bulkheads in the crankcase form a half of every main bearing; the other half is a detachable cap. In some cases a single main bearing deck is used rather than several smaller caps. A connecting rod is connected to offset sections of the crankshaft (the crankpins) in one end and to the piston in the other end through the gudgeon pin and thus transfers the force and translates the reciprocating motion of the pistons to the circular motion of the crankshaft. The end of the connecting rod attached to the gudgeon pin is called its small end, and the other end, where it is connected to the crankshaft, the big end. The big end has a detachable half to allow assembly around the crankshaft. It is kept together to the connecting rod by removable bolts.The cylinder head has an intake manifold and an exhaust manifold attached to the corresponding ports. The intake manifold connects to the air filter directly, or to a carburetor when one is present, which is then connected to the air filter. It distributes the air incoming from these devices to the individual cylinders. The exhaust manifold is the first component in the exhaust system. It collects the exhaust gases from the cylinders and drives it to the following component in the path. The exhaust system of an ICE may also include a catalytic converter and muffler. The final section in the path of the exhaust gases is the tailpipe.The top dead center (TDC) of a piston is the position where it is nearest to the valves; bottom dead center (BDC) is the opposite position where it is furthest from them. A stroke is the movement of a piston from TDC to BDC or vice versa, together with the associated process. While an engine is in operation, the crankshaft rotates continuously at a nearly constant speed. In a 4-stroke ICE, each piston experiences 2 strokes per crankshaft revolution in the following order. Starting the description at TDC, these are:[8][9]The defining characteristic of this kind of engine is that each piston completes a cycle every crankshaft revolution. The 4 processes of intake, compression, power and exhaust take place in only 2 strokes so that it is not possible to dedicate a stroke exclusively for each of them. Starting at TDC the cycle consist of:While a 4-stroke engine uses the piston as a positive displacement pump to accomplish scavenging taking 2 of the 4 strokes, a 2-stroke engine uses the last part of the power stroke and the first part of the compression stroke for combined intake and exhaust. The work required to displace the charge and exhaust gases comes from either the crankcase or a separate blower. For scavenging, expulsion of burned gas and entry of fresh mix, two main approaches are described: Loop scavenging, and Uniflow scavenging, SAE news published in the 2010s that \\'Loop Scavenging\\' is better under any circumstance than Uniflow Scavenging.[7]Some SI engines are crankcase scavenged and do not use poppet valves. Instead the crankcase and the part of the cylinder below the piston is used as a pump. The intake port is connected to the crankcase through a reed valve or a rotary disk valve driven by the engine. For each cylinder a transfer port connects in one end to the crankcase and in the other end to the cylinder wall. The exhaust port is connected directly to the cylinder wall. The transfer and exhaust port are opened and closed by the piston. The reed valve opens when the crankcase pressure is slightly below intake pressure, to let it be filled with a new charge; this happens when the piston is moving upwards. When the piston is moving downwards the pressure in the crankcase increases and the reed valve closes promptly, then the charge in the crankcase is compressed. When the piston is moving upwards, it uncovers the exhaust port and the transfer port and the higher pressure of the charge in the crankcase makes it enter the cylinder through the transfer port, blowing the exhaust gases. Lubrication is accomplished by adding 2-stroke oil to the fuel in small ratios. Petroil refers to the mix of gasoline with the aforesaid oil. This kind of 2-stroke engines has a lower efficiency than comparable 4-strokes engines and release a more polluting exhaust gases for the following conditions:The main advantage of 2-stroke engines of this type is mechanical simplicity and a higher power-to-weight ratio than their 4-stroke counterparts. Despite having twice as many power strokes per cycle, less than twice the power of a comparable 4-stroke engine is attainable in practice.In the USA, 2-stroke engines were banned for road vehicles due to the pollution. Off-road only motorcycles are still often 2-stroke but are rarely road legal. However, many thousands of 2-stroke lawn maintenance engines are in use.[citation needed]Using a separate blower avoids many of the shortcomings of crankcase scavenging, at the expense of increased complexity which means a higher cost and an increase in maintenance requirement. An engine of this type uses ports or valves for intake and valves for exhaust, except opposed piston engines, which may also use ports for exhaust. The blower is usually of the Roots-type but other types have been used too. This design is commonplace in CI engines, and has been occasionally used in SI engines.CI engines that use a blower typically use uniflow scavenging. In this design the cylinder wall contains several intake ports placed uniformly spaced along the circumference just above the position that the piston crown reaches when at BDC. An exhaust valve or several like that of 4-stroke engines is used. The final part of the intake manifold is an air sleeve which feeds the intake ports. The intake ports are placed at an horizontal angle to the cylinder wall (I.e: they are in plane of the piston crown) to give a swirl to the incoming charge to improve combustion. The largest reciprocating IC are low speed CI engines of this type; they are used for marine propulsion (see marine diesel engine) or electric power generation and achieve the highest thermal efficiencies among internal combustion engines of any kind. Some Diesel-electric locomotive engines operate on the 2-stroke cycle. The most powerful of them have a brake power of around 4.5\\xa0MW or 6,000\\xa0HP. The EMD SD90MAC class of locomotives use a 2-stroke engine. The comparable class GE AC6000CW whose prime mover has almost the same brake power uses a 4-stroke engine.An example of this type of engine is the Wärtsilä-Sulzer RTA96-C turbocharged 2-stroke Diesel, used in large container ships. It is the most efficient and powerful reciprocating internal combustion engine in the world with a thermal efficiency over 50%.[10][11][12] For comparison, the most efficient small four-stroke engines are around 43% thermally-efficient (SAE 900648);[citation needed] size is an advantage for efficiency due to the increase in the ratio of volume to surface area.See the external links for a in-cylinder combustion video in a 2-stroke, optically accessible motorcycle engine.Dugald Clerk developed the first two cycle engine in 1879. It used a separate cylinder which functioned as a pump in order to transfer the fuel mixture to the cylinder.[7]In 1899 John Day simplified Clerk\\'s design into the type of 2 cycle engine that is very widely used today.[13] Day cycle engines are crankcase scavenged and port timed. The crankcase and the part of the cylinder below the exhaust port is used as a pump. The operation of the Day cycle engine begins when the crankshaft is turned so that the piston moves from BDC upward (toward the head) creating a vacuum in the crankcase/cylinder area. The carburetor then feeds the fuel mixture into the crankcase through a reed valve or a rotary disk valve (driven by the engine). There are cast in ducts from the crankcase to the port in the cylinder to provide for intake and another from the exhaust port to the exhaust pipe. The height of the port in relationship to the length of the cylinder is called the \"port timing.\"On the first upstroke of the engine there would be no fuel inducted into the cylinder as the crankcase was empty. On the downstroke, the piston now compresses the fuel mix, which has lubricated the piston in the cylinder and the bearings due to the fuel mix having oil added to it. As the piston moves downward is first uncovers the exhaust, but on the first stroke there is no burnt fuel to exhaust. As the piston moves downward further, it uncovers the intake port which has a duct that runs to the crankcase. Since the fuel mix in the crankcase is under pressure, the mix moves through the duct and into the cylinder.Because there is no obstruction in the cylinder of the fuel to move directly out of the exhaust port prior to the piston rising far enough to close the port, early engines used a high domed piston to slow down the flow of fuel. Later the fuel was \"resonated\" back into the cylinder using an expansion chamber design. When the piston rose close to TDC, a spark ignites the fuel. As the piston is driven downward with power, it first uncovers the exhaust port where the burned fuel is expelled under high pressure and then the intake port where the process has been completed and will keep repeating.Later engines used a type of porting devised by the Deutz company to improve performance. It was called the Schnurle Reverse Flow system. DKW licensed this design for all their motorcycles. Their DKW RT 125 was one of the first motor vehicles to achieve over 100\\xa0mpg as a result.[14]Internal combustion engines require ignition of the mixture, either by spark ignition (SI) or compression ignition (CI). Before the invention of reliable electrical methods, hot tube and flame methods were used. Experimental engines with laser ignition have been built.[15]The spark ignition engine was a refinement of the early engines which used Hot Tube ignition. When Bosch developed the magneto it became the primary system for producing electricity to energize a spark plug.[16] Many small engines still use magneto ignition. Small engines are started by hand cranking using a recoil starter or hand crank. Prior to Charles F. Kettering of Delco\\'s development of the automotive starter all gasoline engined automobiles used a hand crank.[17]Larger engines typically power their starting motors and ignition systems using the electrical energy stored in a lead–acid battery. The battery\\'s charged state is maintained by an automotive alternator or (previously) a generator which uses engine power to create electrical energy storage.The battery supplies electrical power for starting when the engine has a starting motor system, and supplies electrical power when the engine is off. The battery also supplies electrical power during rare run conditions where the alternator cannot maintain more than 13.8 volts (for a common 12V automotive electrical system). As alternator voltage falls below 13.8 volts, the lead-acid storage battery increasingly picks up electrical load. During virtually all running conditions, including normal idle conditions, the alternator supplies primary electrical power.Some systems disable alternator field (rotor) power during wide open throttle conditions. Disabling the field reduces alternator pulley mechanical loading to nearly zero, maximizing crankshaft power. In this case, the battery supplies all primary electrical power.Gasoline engines take in a mixture of air and gasoline and compress it by the movement of the piston from bottom dead center to top dead center when the fuel is at maximum compression. The reduction in the size of the swept area of the cylinder and taking into account the volume of the combustion chamber is described by a ratio. Early engines had compression ratios of 6 to 1. As compression ratios were increased, the efficiency of the engine increased as well.With early induction and ignition systems the compression ratios had to be kept low. With advances in fuel technology and combustion management, high performance engines can run reliably at 12:1 ratio. With low octane fuel, a problem would occur as the compression ratio increased as the fuel was igniting due to the rise in temperature that resulted. Charles Kettering developed a lead additive which allowed higher compression ratios.The fuel mixture is ignited at difference progressions of the piston in the cylinder. At low rpm, the spark is timed to occur close to the piston achieving top dead center. In order to produce more power, as rpm rises the spark is advanced sooner during piston movement. The spark occurs while the fuel is still being compressed progressively more as rpm rises.[18]The necessary high voltage, typically 10,000 volts, is supplied by an induction coil or transformer. The induction coil is a fly-back system, using interruption of electrical primary system current through some type of synchronized interrupter. The interrupter can be either contact points or a power transistor. The problem with this type of ignition is that as RPM increases the availability of electrical energy decreases. This is especially a problem, since the amount of energy needed to ignite a more dense fuel mixture is higher. The result was often a high RPM misfire.Capacitor discharge ignition was developed. It produces a rising voltage that is sent to the spark plug. CD system voltages can reach 60,000 volts.[19] CD ignitions use step-up transformers. The step-up transformer uses energy stored in a capacitance to generate electric spark. With either system, a mechanical or electrical control system provides a carefully timed high-voltage to the proper cylinder. This spark, via the spark plug, ignites the air-fuel mixture in the engine\\'s cylinders.While gasoline internal combustion engines are much easier to start in cold weather than diesel engines, they can still have cold weather starting problems under extreme conditions. For years, the solution was to park the car in heated areas. In some parts of the world, the oil was actually drained and heated over night and returned to the engine for cold starts. In the early 1950s, the gasoline Gasifier unit was developed, where, on cold weather starts, raw gasoline was diverted to the unit where part of the fuel was burned causing the other part to become a hot vapor sent directly to the intake valve manifold. This unit was quite popular until electric engine block heaters became standard on gasoline engines sold in cold climates.[20]Diesel, PPC and HCCI engines, rely solely on heat and pressure created by the engine in its compression process for ignition. The compression level that occurs is usually twice or more than a gasoline engine. Diesel engines take in air only, and shortly before peak compression, spray a small quantity of diesel fuel into the cylinder via a fuel injector that allows the fuel to instantly ignite. HCCI type engines take in both air and fuel, but continue to rely on an unaided auto-combustion process, due to higher pressures and heat. This is also why diesel and HCCI engines are more susceptible to cold-starting issues, although they run just as well in cold weather once started. Light duty diesel engines with indirect injection in automobiles and light trucks employ glowplugs (or other pre-heating: see Cummins ISB#6BT) that pre-heat the combustion chamber just before starting to reduce no-start conditions in cold weather. Most diesels also have a battery and charging system; nevertheless, this system is secondary and is added by manufacturers as a luxury for the ease of starting, turning fuel on and off (which can also be done via a switch or mechanical apparatus), and for running auxiliary electrical components and accessories. Most new engines rely on electrical and electronic engine control units (ECU) that also adjust the combustion process to increase efficiency and reduce emissions.Surfaces in contact and relative motion to other surfaces require lubrication to reduce wear, noise and increase efficiency by reducing the power wasting in overcoming friction, or to make the mechanism work at all. At the very least, an engine requires lubrication in the following parts:In 2-stroke crankcase scavenged engines, the interior of the crankcase, and therefore the crankshaft, connecting rod and bottom of the pistons are sprayed by the 2-stroke oil in the air-fuel-oil mixture which is then burned along with the fuel. The valve train may be contained in a compartment flooded with lubricant so that no oil pump is required.In a splash lubrication system no oil pump is used. Instead the crankshaft dips into the oil in the sump and due to its high speed, it splashes the crankshaft, connecting rods and bottom of the pistons. The connecting rod big end caps may have an attached scoop to enhance this effect. The valve train may also be sealed in a flooded compartment, or open to the crankshaft in a way that it receives splashed oil and allows it to drain back to the sump. Splash lubrication is common for small 4-stroke engines.In a forced (also called pressurized) lubrication system, lubrication is accomplished in a closed loop which carries motor oil to the surfaces serviced by the system and then returns the oil to a reservoir. The auxiliary equipment of an engine is typically not serviced by this loop; for instance, an alternator may use ball bearings sealed with their own lubricant. The reservoir for the oil is usually the sump, and when this is the case, it is called a wet sump system. When there is a different oil reservoir the crankcase still catches it, but it is continuously drained by a dedicated pump; this is called a dry sump system.On its bottom, the sump contains an oil intake covered by a mesh filter which is connected to an oil pump then to an oil filter outside the crankcase, from there it is diverted to the crankshaft main bearings and valve train. The crankcase contains at least one oil gallery (a conduit inside a crankcase wall) to which oil is introduced from the oil filter. The main bearings contain a groove through all or half its circumference; the oil enters to these grooves from channels connected to the oil gallery. The crankshaft has drillings which take oil from these grooves and deliver it to the big end bearings. All big end bearings are lubricated this way. A single main bearing may provide oil for 0, 1 or 2 big end bearings. A similar system may be used to lubricate the piston, its gudgeon pin and the small end of its connecting rod; in this system, the connecting rod big end has a groove around the crankshaft and a drilling connected to the groove which distributes oil from there to the bottom of the piston and from then to the cylinder.Other systems are also used to lubricate the cylinder and piston. The connecting rod may have a nozzle to throw an oil jet to the cylinder and bottom of the piston. That nozzle is in movement relative to the cylinder it lubricates, but always pointed towards it or the corresponding piston.Typically a forced lubrication systems have a lubricant flow higher than what is required to lubricate satisfactorily, in order to assist with cooling. Specifically, the lubricant system helps to move heat from the hot engine parts to the cooling liquid (in water-cooled engines) or fins (in air-cooled engines) which then transfer it to the environment. The lubricant must be designed to be chemically stable and maintain suitable viscosities within the temperature range it encounters in the engine.Common cylinder configurations include the straight or inline configuration, the more compact V configuration, and the wider but smoother flat or boxer configuration. Aircraft engines can also adopt a radial configuration, which allows more effective cooling. More unusual configurations such as the H, U, X, and W have also been used.Multiple cylinder engines have their valve train and crankshaft configured so that pistons are at different parts of their cycle. It is desirable to have the piston\\'s cycles uniformly spaced (this is called even firing) especially in forced induction engines; this reduces torque pulsations[21] and makes inline engines with more than 3 cylinders statically balanced in its primary forces. However, some engine configurations require odd firing to achieve better balance than what is possible with even firing. For instance, a 4-stroke I2 engine has better balance when the angle between the crankpins is 180° because the pistons move in opposite directions and inertial forces partially cancel, but this gives an odd firing pattern where one cylinder fires 180° of crankshaft rotation after the other, then no cylinder fires for 540°. With an even firing pattern, the pistons would move in unison and the associated forces would add.Multiple crankshaft configurations do not necessarily need a cylinder head at all because they can instead have a piston at each end of the cylinder called an opposed piston design. Because fuel inlets and outlets are positioned at opposed ends of the cylinder, one can achieve uniflow scavenging, which, as in the four-stroke engine is efficient over a wide range of engine speeds. Thermal efficiency is improved because of a lack of cylinder heads. This design was used in the Junkers Jumo 205 diesel aircraft engine, using two crankshafts at either end of a single bank of cylinders, and most remarkably in the Napier Deltic diesel engines. These used three crankshafts to serve three banks of double-ended cylinders arranged in an equilateral triangle with the crankshafts at the corners. It was also used in single-bank locomotive engines, and is still used in marine propulsion engines and marine auxiliary generators.Most truck and automotive diesel engines use a cycle reminiscent of a four-stroke cycle, but with compression heating causing ignition, rather than needing a separate ignition system. This variation is called the diesel cycle. In the diesel cycle, diesel fuel is injected directly into the cylinder so that combustion occurs at constant pressure, as the piston moves.Otto cycle is the typical cycle for most of the cars internal combustion engines, that work using gasoline as a fuel. Otto cycle is exactly the same one that was described for the four-stroke engine. It consists of the same major steps: Intake, compression, ignition, expansion and exhaust.In 1879, Nikolaus Otto manufactured and sold a double expansion engine (the double and triple expansion principles had ample usage in steam engines), with two small cylinders at both sides of a low-pressure larger cylinder, where a second expansion of exhaust stroke gas took place; the owner returned it, alleging poor performance. In 1906, the concept was incorporated in a car built by EHV (Eisenhuth Horseless Vehicle Company) CT, USA;[22] and in the 21st century Ilmor designed and successfully tested a 5-stroke double expansion internal combustion engine, with high power output and low SFC (Specific Fuel Consumption).[23]The six-stroke engine was invented in 1883. Four kinds of six-stroke use a regular piston in a regular cylinder (Griffin six-stroke, Bajulaz six-stroke, Velozeta six-stroke and Crower six-stroke), firing every three crankshaft revolutions. These systems capture the wasted heat of the four-stroke Otto cycle with an injection of air or water.The Beare Head and \"piston charger\" engines operate as opposed-piston engines, two pistons in a single cylinder, firing every two revolutions rather more like a regular four-stroke.The very first internal combustion engines did not compress the mixture. The first part of the piston downstroke drew in a fuel-air mixture, then the inlet valve closed and, in the remainder of the down-stroke, the fuel-air mixture fired. The exhaust valve opened for the piston upstroke. These attempts at imitating the principle of a steam engine were very inefficient. There are a number of variations of these cycles, most notably the Atkinson and Miller cycles. The diesel cycle is somewhat different.Split-cycle engines separate the four strokes of intake, compression, combustion and exhaust into two separate but paired cylinders. The first cylinder is used for intake and compression. The compressed air is then transferred through a crossover passage from the compression cylinder into the second cylinder, where combustion and exhaust occur. A split-cycle engine is really an air compressor on one side with a combustion chamber on the other.Previous split-cycle engines have had two major problems—poor breathing (volumetric efficiency) and low thermal efficiency. However, new designs are being introduced that seek to address these problems.The Scuderi Engine addresses the breathing problem by reducing the clearance between the piston and the cylinder head through various turbo charging techniques. The Scuderi design requires the use of outwardly opening valves that enable the piston to move very close to the cylinder head without the interference of the valves. Scuderi addresses the low thermal efficiency via firing after top dead centre (ATDC).Firing ATDC can be accomplished by using high-pressure air in the transfer passage to create sonic flow and high turbulence in the power cylinder.Jet engines use a number of rows of fan blades to compress air which then enters a combustor where it is mixed with fuel (typically JP fuel) and then ignited. The burning of the fuel raises the temperature of the air which is then exhausted out of the engine creating thrust. A modern turbofan engine can operate at as high as 48% efficiency.[24]There are six sections to a turbofan engine:A gas turbine compresses air and uses it to turn a turbine. It is essentially a jet engine which directs its output to a shaft. There are three stages to a turbine: 1) air is drawn through a compressor where the temperature rises due to compression, 2) fuel is added in the combuster, and 3) hot air is exhausted through turbine blades which rotate a shaft connected to the compressor.A gas turbine is a rotary machine similar in principle to a steam turbine and it consists of three main components: a compressor, a combustion chamber, and a turbine. The air, after being compressed in the compressor, is heated by burning fuel in it. The heated air and the products of combustion expand in a turbine, producing work output. About \\u200b2⁄3 of the work drives the compressor: the rest (about \\u200b1⁄3) is available as useful work output.[26]Gas Turbines are among the most efficient internal combustion engines. The General Electric 7HA and 9HA turbine combined cycle electrical plants are rated at over 61% efficiency.[27]A gas turbine is a rotary machine somewhat similar in principle to a steam turbine. It consists of three main components: compressor, combustion chamber, and turbine. The air is compressed by the compressor where a temperature rise occurs. The compressed air is further heated by combustion of injected fuel in the combustion chamber which expands the air. This energy rotates the turbine which powers the compressor via a mechanical coupling. The hot gases are then exhausted to provide thrust.Gas turbine cycle engines employ a continuous combustion system where compression, combustion, and expansion occur simultaneously at different places in the engine—giving continuous power. Notably, the combustion takes place at constant pressure, rather than with the Otto cycle, constant volume.The Wankel engine (rotary engine) does not have piston strokes. It operates with the same separation of phases as the four-stroke engine with the phases taking place in separate locations in the engine. In thermodynamic terms it follows the Otto engine cycle, so may be thought of as a \"four-phase\" engine. While it is true that three power strokes typically occur per rotor revolution, due to the 3:1 revolution ratio of the rotor to the eccentric shaft, only one power stroke per shaft revolution actually occurs. The drive (eccentric) shaft rotates once during every power stroke instead of twice (crankshaft), as in the Otto cycle, giving it a greater power-to-weight ratio than piston engines. This type of engine was most notably used in the Mazda RX-8, the earlier RX-7, and other vehicle models. The engine is also used in unmanned aerial vehicles, where the small size and weight and the high power-to-weight ratio are advantageous.Forced induction is the process of delivering compressed air to the intake of an internal combustion engine. A forced induction engine uses a gas compressor to increase the pressure, temperature and density of the air. An engine without forced induction is considered a naturally aspirated engine.Forced induction is used in the automotive and aviation industry to increase engine power and efficiency. It particularly helps aviation engines, as they need to operate at high altitude.Forced induction is achieved by a supercharger, where the compressor is directly powered from the engine shaft or, in the turbocharger, from a turbine powered by the engine exhaust.All internal combustion engines depend on combustion of a chemical fuel, typically with oxygen from the air (though it is possible to inject nitrous oxide to do more of the same thing and gain a power boost). The combustion process typically results in the production of a great quantity of heat, as well as the production of steam and carbon dioxide and other chemicals at very high temperature; the temperature reached is determined by the chemical make up of the fuel and oxidisers (see stoichiometry), as well as by the compression and other factors.The most common modern fuels are made up of hydrocarbons and are derived mostly from fossil fuels (petroleum). Fossil fuels include diesel fuel, gasoline and petroleum gas, and the rarer use of propane. Except for the fuel delivery components, most internal combustion engines that are designed for gasoline use can run on natural gas or liquefied petroleum gases without major modifications. Large diesels can run with air mixed with gases and a pilot diesel fuel ignition injection. Liquid and gaseous biofuels, such as ethanol and biodiesel (a form of diesel fuel that is produced from crops that yield triglycerides such as soybean oil), can also be used. Engines with appropriate modifications can also run on hydrogen gas, wood gas, or charcoal gas, as well as from so-called producer gas made from other convenient biomass. Experiments have also been conducted using powdered solid fuels, such as the magnesium injection cycle.Presently, fuels used include:Even fluidized metal powders and explosives have seen some use. Engines that use gases for fuel are called gas engines and those that use liquid hydrocarbons are called oil engines; however, gasoline engines are also often colloquially referred to as, \"gas engines\" (\"petrol engines\" outside North America).The main limitations on fuels are that it must be easily transportable through the fuel system to the combustion chamber, and that the fuel releases sufficient energy in the form of heat upon combustion to make practical use of the engine.Diesel engines are generally heavier, noisier, and more powerful at lower speeds than gasoline engines. They are also more fuel-efficient in most circumstances and are used in heavy road vehicles, some automobiles (increasingly so for their increased fuel efficiency over gasoline engines), ships, railway locomotives, and light aircraft. Gasoline engines are used in most other road vehicles including most cars, motorcycles, and mopeds. Note that in Europe, sophisticated diesel-engined cars have taken over about 45% of the market since the 1990s. There are also engines that run on hydrogen, methanol, ethanol, liquefied petroleum gas (LPG), biodiesel, paraffin and tractor vaporizing oil (TVO).Hydrogen could eventually replace conventional fossil fuels in traditional internal combustion engines. Alternatively fuel cell technology may come to deliver its promise and the use of the internal combustion engines could even be phased out.Although there are multiple ways of producing free hydrogen, those methods require converting combustible molecules into hydrogen or consuming electric energy. Unless that electricity is produced from a renewable source—and is not required for other purposes— hydrogen does not solve any energy crisis. In many situations the disadvantage of hydrogen, relative to carbon fuels, is its storage. Liquid hydrogen has extremely low density (14 times lower than water) and requires extensive insulation—whilst gaseous hydrogen requires heavy tankage. Even when liquefied, hydrogen has a higher specific energy but the volumetric energetic storage is still roughly five times lower than gasoline. However, the energy density of hydrogen is considerably higher than that of electric batteries, making it a serious contender as an energy carrier to replace fossil fuels. The \\'Hydrogen on Demand\\' process (see direct borohydride fuel cell) creates hydrogen as needed, but has other issues, such as the high price of the sodium borohydride that is the raw material.Since air is plentiful at the surface of the earth, the oxidizer is typically atmospheric oxygen, which has the advantage of not being stored within the vehicle. This increases the power-to-weight and power-to-volume ratios. Other materials are used for special purposes, often to increase power output or to allow operation under water or in space.Cooling is required to remove excessive heat — over heating can cause engine failure, usually from wear (due to heat-induced failure of lubrication), cracking or warping. Two most common forms of engine cooling are air-cooled and water-cooled. Most modern automotive engines are both water and air-cooled, as the water/liquid-coolant is carried to air-cooled fins and/or fans, whereas larger engines may be singularly water-cooled as they are stationary and have a constant supply of water through water-mains or fresh-water, while most power tool engines and other small engines are air-cooled. Some engines (air or water-cooled) also have an oil cooler. In some engines, especially for turbine engine blade cooling and liquid rocket engine cooling, fuel is used as a coolant, as it is simultaneously preheated before injecting it into a combustion chamber.Internal Combustion engines must have their cycles started. In reciprocating engines this is accomplished by turning the crankshaft (Wankel Rotor Shaft) which induces the cycles of intake, compression, combustion, and exhaust. The first engines were started with a turn of their flywheels, while the first vehicle (the Daimler Reitwagen) was started with a hand crank. All ICE engined automobiles were started with hand cranks until Charles Kettering developed the electric starter for automobiles.[30]The most often found methods of starting ICE today is with an electric motor. As diesel engines have become larger another method has come into use as well, that is Air Starters.[31]Another method of starting is to use compressed air that is pumped into some cylinders of an engine to start it turning.With two wheeled vehicles their engines may be started in four ways:There are also starters where a spring is compressed by a crank motion and then used to start an engine. Small engines use a pull rope mechanism called recoil starting as the rope returns to storage after it has been pulled fully out to start the engine.Turbine engines are frequently started by electric motor, or by air.Engine types vary greatly in a number of different ways:Once ignited and burnt, the combustion products—hot gases—have more available thermal energy than the original compressed fuel-air mixture (which had higher chemical energy). The available energy is manifested as high temperature and pressure that can be translated into work by the engine. In a reciprocating engine, the high-pressure gases inside the cylinders drive the engine\\'s pistons.Once the available energy has been removed, the remaining hot gases are vented (often by opening a valve or exposing the exhaust outlet) and this allows the piston to return to its previous position (top dead center, or TDC). The piston can then proceed to the next phase of its cycle, which varies between engines. Any heat that is not translated into work is normally considered a waste product and is removed from the engine either by an air or liquid cooling system.Internal combustion engines are heat engines, and as such their theoretical efficiency can be approximated by idealized thermodynamic cycles. The thermal efficiency of a theoretical cycle cannot exceed that of the Carnot cycle, whose efficiency is determined by the difference between the lower and upper operating temperatures of the engine. The upper operating temperature of an engine is limited by two main factors; the thermal operating limits of the materials, and the auto-ignition resistance of the fuel. All metals and alloys have a thermal operating limit, and there is significant research into ceramic materials that can be made with greater thermal stability and desirable structural properties. Higher thermal stability allows for a greater temperature difference between the lower (ambient) and upper operating temperatures, hence greater thermodynamic efficiency. Also, as the cylinder temperature rises, the engine becomes more prone to auto-ignition. This is caused when the cylinder temperature nears the flash point of the charge. At this point, ignition can spontaneously occur before the spark plug fires, causing excessive cylinder pressures. Auto-ignition can be mitigated by using fuels with high auto-ignition resistance (octane rating), however it still puts an upper bound on the allowable peak cylinder temperature.The thermodynamic limits assume that the engine is operating under ideal conditions: a frictionless world, ideal gases, perfect insulators, and operation for infinite time. Real world applications introduce complexities that reduce efficiency. For example, a real engine runs best at a specific load, termed its power band. The engine in a car cruising on a highway is usually operating significantly below its ideal load, because it is designed for the higher loads required for rapid acceleration.[citation needed] In addition, factors such as wind resistance reduce overall system efficiency. Engine fuel economy is measured in miles per gallon or in liters per 100 kilometres. The volume of hydrocarbon assumes a standard energy content.Most iron engines have a thermodynamic limit of 37%. Even when aided with turbochargers and stock efficiency aids, most engines retain an average efficiency of about 18%-20\\xa0%.[32] The latest technologies in Formula One engines have seen a boost in thermal efficiency to almost 47%.[33] Rocket engine efficiencies are much better, up to 70%, because they operate at very high temperatures and pressures and can have very high expansion ratios.[34]There are many inventions aimed at increasing the efficiency of IC engines. In general, practical engines are always compromised by trade-offs between different properties such as efficiency, weight, power, heat, response, exhaust emissions, or noise. Sometimes economy also plays a role in not only the cost of manufacturing the engine itself, but also manufacturing and distributing the fuel. Increasing the engine\\'s efficiency brings better fuel economy but only if the fuel cost per energy content is the same.For stationary and shaft engines including propeller engines, fuel consumption is measured by calculating the brake specific fuel consumption, which measures the mass flow rate of fuel consumption divided by the power produced.For internal combustion engines in the form of jet engines, the power output varies drastically with airspeed and a less variable measure is used: thrust specific fuel consumption (TSFC), which is the mass of propellant needed to generate impulses that is measured in either pound force-hour or the grams of propellant needed to generate an impulse that measures one kilonewton-second.For rockets, TSFC can be used, but typically other equivalent measures are traditionally used, such as specific impulse and effective exhaust velocity.Internal combustion engines such as reciprocating internal combustion engines produce air pollution emissions, due to incomplete combustion of carbonaceous fuel. The main derivatives of the process are carbon dioxide CO\\n2, water and some soot — also called particulate matter (PM). The effects of inhaling particulate matter have been studied in humans and animals and include asthma, lung cancer, cardiovascular issues, and premature death. There are, however, some additional products of the combustion process that include nitrogen oxides and sulfur and some uncombusted hydrocarbons, depending on the operating conditions and the fuel-air ratio.Not all of the fuel is completely consumed by the combustion process. A small amount of fuel is present after combustion, and some of it reacts to form oxygenates, such as formaldehyde or acetaldehyde, or hydrocarbons not originally present in the input fuel mixture. Incomplete combustion usually results from insufficient oxygen to achieve the perfect stoichiometric ratio. The flame is \"quenched\" by the relatively cool cylinder walls, leaving behind unreacted fuel that is expelled with the exhaust. When running at lower speeds, quenching is commonly observed in diesel (compression ignition) engines that run on natural gas. Quenching reduces efficiency and increases knocking, sometimes causing the engine to stall. Incomplete combustion also leads to the production of carbon monoxide (CO). Further chemicals released are benzene and 1,3-butadiene that are also hazardous air pollutants.Increasing the amount of air in the engine reduces emissions of incomplete combustion products, but also promotes reaction between oxygen and nitrogen in the air to produce nitrogen oxides (NOx). NOx is hazardous to both plant and animal health, and leads to the production of ozone (O3). Ozone is not emitted directly; rather, it is a secondary air pollutant, produced in the atmosphere by the reaction of NOx and volatile organic compounds in the presence of sunlight. Ground-level ozone is harmful to human health and the environment. Though the same chemical substance, ground-level ozone should not be confused with stratospheric ozone, or the ozone layer, which protects the earth from harmful ultraviolet rays.Carbon fuels contain sulfur and impurities that eventually produce sulfur monoxides (SO) and sulfur dioxide (SO2) in the exhaust, which promotes acid rain.In the United States, nitrogen oxides, PM, carbon monoxide, sulphur dioxide, and ozone, are regulated as criteria air pollutants under the Clean Air Act to levels where human health and welfare are protected. Other pollutants, such as benzene and 1,3-butadiene, are regulated as hazardous air pollutants whose emissions must be lowered as much as possible depending on technological and practical considerations.NOx, carbon monoxide and other pollutants are frequently controlled via exhaust gas recirculation which returns some of the exhaust back into the engine intake, and catalytic converters, which convert exhaust chemicals to harmless chemicals.The emission standards used by many countries have special requirements for non-road engines which are used by equipment and vehicles that are not operated on the public roadways. The standards are separated from the road vehicles.[35]Significant contributions to noise pollution are made by internal combustion engines. Automobile and truck traffic operating on highways and street systems produce noise, as do aircraft flights due to jet noise, particularly supersonic-capable aircraft. Rocket engines create the most intense noise.Internal combustion engines continue to consume fuel and emit pollutants when idling so it is desirable to keep periods of idling to a minimum. Many bus companies now instruct drivers to switch off the engine when the bus is waiting at a terminal.In England, the Road Traffic Vehicle Emissions Fixed Penalty Regulations 2002 (Statutory Instrument 2002 No. 1808) [36] introduced the concept of a \"stationary idling offence\". This means that a driver can be ordered \"by an authorised person ... upon production of evidence of his authorisation, require him to stop the running of the engine of that vehicle\" and a \"person who fails to comply ... shall be guilty of an offence and be liable on summary conviction to a fine not exceeding level 3 on the standard scale\". Only a few local authorities have implemented the regulations, one of them being Oxford City Council.[37]'"
      ]
     },
     "execution_count": 59,
     "metadata": {},
     "output_type": "execute_result"
    }
   ],
   "source": [
    "#get all paragraph element\n",
    "\n",
    "p_el = soup.find_all('p')\n",
    "\n",
    "all_text=\"\"\n",
    "\n",
    "for x in p_el:    \n",
    "    all_text=all_text+x.get_text()\n",
    "\n",
    "all_text"
   ]
  },
  {
   "cell_type": "code",
   "execution_count": 60,
   "metadata": {},
   "outputs": [
    {
     "data": {
      "text/plain": [
       "9865"
      ]
     },
     "execution_count": 60,
     "metadata": {},
     "output_type": "execute_result"
    }
   ],
   "source": [
    "#tokenize text\n",
    "import nltk\n",
    "import pandas as pd\n",
    "import numpy as np\n",
    "\n",
    "token = nltk.word_tokenize(all_text)\n",
    "len(token)"
   ]
  },
  {
   "cell_type": "code",
   "execution_count": 61,
   "metadata": {},
   "outputs": [
    {
     "data": {
      "text/plain": [
       "9865"
      ]
     },
     "execution_count": 61,
     "metadata": {},
     "output_type": "execute_result"
    }
   ],
   "source": [
    "prv = nltk.word_tokenize(all_text)\n",
    "prv.pop()\n",
    "prv.insert(0,'')\n",
    "len(prv)"
   ]
  },
  {
   "cell_type": "code",
   "execution_count": 62,
   "metadata": {},
   "outputs": [
    {
     "data": {
      "text/plain": [
       "9865"
      ]
     },
     "execution_count": 62,
     "metadata": {},
     "output_type": "execute_result"
    }
   ],
   "source": [
    "nxt = nltk.word_tokenize(all_text)\n",
    "nxt.pop(0)\n",
    "nxt.append('')\n",
    "len(nxt)"
   ]
  },
  {
   "cell_type": "code",
   "execution_count": 63,
   "metadata": {},
   "outputs": [
    {
     "data": {
      "text/plain": [
       "391"
      ]
     },
     "execution_count": 63,
     "metadata": {},
     "output_type": "execute_result"
    }
   ],
   "source": [
    "#find all entities \n",
    "import re\n",
    "\n",
    "entities=None\n",
    "\n",
    "for x in p_el:\n",
    "    a_el=x.find_all('a', {'href': re.compile(r'^/wiki/')})\n",
    "    \n",
    "    if len(a_el) > 0:\n",
    "        if entities is None:\n",
    "            entities=a_el\n",
    "        else:            \n",
    "            entities=entities+a_el\n",
    "\n",
    "len(entities)"
   ]
  },
  {
   "cell_type": "code",
   "execution_count": 64,
   "metadata": {},
   "outputs": [],
   "source": [
    "#get previous and next token of entity\n",
    "import bs4\n",
    "\n",
    "ent_prev=[]\n",
    "ent_next=[]\n",
    "ent=[]\n",
    "\n",
    "def get_token_from_sibling(el,src):    \n",
    "    res=''\n",
    "    \n",
    "    if el is None:                \n",
    "        if src==\"prev\":\n",
    "            res=''\n",
    "        elif src==\"next\":\n",
    "            res=''\n",
    "            \n",
    "    elif isinstance(el, bs4.element.Tag):\n",
    "        txt=el.get_text()\n",
    "        tkn=nltk.word_tokenize(txt)\n",
    "\n",
    "        if len(tkn) == 0:            \n",
    "            if src==\"prev\":\n",
    "                #print(t,src,type(el.previous_sibling))\n",
    "                res=get_token_from_sibling(el.previous_sibling,src)\n",
    "            elif src==\"next\":\n",
    "                #print(t,src,type(el.next_sibling))\n",
    "                res=get_token_from_sibling(el.next_sibling,src)\n",
    "                \n",
    "        elif src==\"prev\":\n",
    "            res=tkn.pop()\n",
    "        elif src==\"next\":\n",
    "            res=tkn.pop(0)        \n",
    "            \n",
    "    elif isinstance(el, bs4.element.NavigableString):        \n",
    "        tkn=nltk.word_tokenize(el)\n",
    "        \n",
    "        if len(tkn) == 0:               \n",
    "            if src==\"prev\":\n",
    "                #print(t,src,type(el.previous_sibling))\n",
    "                res=get_token_from_sibling(el.previous_sibling,src)\n",
    "            elif src==\"next\":\n",
    "                #print(t,src,type(el.next_sibling))\n",
    "                res=get_token_from_sibling(el.next_sibling,src)\n",
    "                \n",
    "        elif src==\"prev\":\n",
    "            res=tkn.pop()\n",
    "        elif src==\"next\":\n",
    "            res=tkn.pop(0)\n",
    "    \n",
    "    return res\n",
    "\n",
    "for x in entities:    \n",
    "    ent_tkn=nltk.word_tokenize(x.get_text())\n",
    "    \n",
    "    for idx, t in enumerate(ent_tkn):    \n",
    "        ent.append(t)\n",
    "        \n",
    "        if ((idx+1)==len(ent_tkn)) & (idx==0): \n",
    "            ent_prev.append(get_token_from_sibling(x.previous_sibling,\"prev\"))\n",
    "            ent_next.append(get_token_from_sibling(x.next_sibling,\"next\"))\n",
    "        \n",
    "        elif idx==0: \n",
    "            ent_prev.append(get_token_from_sibling(x.previous_sibling,\"prev\"))\n",
    "            ent_next.append(ent_tkn[idx+1])\n",
    "                \n",
    "        elif (idx+1)==len(ent_tkn): \n",
    "            ent_prev.append(ent_tkn[idx-1])\n",
    "            ent_next.append(get_token_from_sibling(x.next_sibling,\"next\"))\n",
    "        \n",
    "        else:\n",
    "            ent_prev.append(ent_tkn[idx-1])\n",
    "            ent_next.append(ent_tkn[idx+1])\n",
    "                            "
   ]
  },
  {
   "cell_type": "code",
   "execution_count": 65,
   "metadata": {},
   "outputs": [
    {
     "name": "stdout",
     "output_type": "stream",
     "text": [
      "705\n",
      "705\n",
      "705\n"
     ]
    },
    {
     "data": {
      "text/plain": [
       "391"
      ]
     },
     "execution_count": 65,
     "metadata": {},
     "output_type": "execute_result"
    }
   ],
   "source": [
    "print(len(ent_prev))\n",
    "print(len(ent_next))\n",
    "print(len(ent))\n",
    "len(entities)"
   ]
  },
  {
   "cell_type": "code",
   "execution_count": 66,
   "metadata": {},
   "outputs": [
    {
     "data": {
      "text/plain": [
       "True"
      ]
     },
     "execution_count": 66,
     "metadata": {},
     "output_type": "execute_result"
    }
   ],
   "source": [
    "os.path.exists(\"./result/output-1.txt\")"
   ]
  },
  {
   "cell_type": "code",
   "execution_count": 67,
   "metadata": {},
   "outputs": [
    {
     "name": "stdout",
     "output_type": "stream",
     "text": [
      "./result/output-2.txt\n",
      "done\n"
     ]
    }
   ],
   "source": [
    "#save as text file\n",
    "\n",
    "import os.path\n",
    "\n",
    "directory=\"./result/\"\n",
    "num=0\n",
    "file_path=\"\"\n",
    "file_exist=True\n",
    "\n",
    "while file_exist:\n",
    "    num=num+1\n",
    "    file_path=directory+\"output-\"+str(num)+\".txt\"\n",
    "    file_exist=os.path.exists(file_path)\n",
    "\n",
    "print(file_path)\n",
    "    \n",
    "with open(file_path, \"w\") as text_file:    \n",
    "    for idxt, t in enumerate(token):\n",
    "        label=\"O\"\n",
    "        eq_ent=\"\"\n",
    "        eq_ent_prev=\"\"\n",
    "        eq_ent_next=\"\"\n",
    "        connector=\"\"\n",
    "        \n",
    "        for idxet, et in enumerate(ent):\n",
    "            if t == et:\n",
    "                if (prv[idxt]==ent_prev[idxet]) & (nxt[idxt]==ent_next[idxet]):\n",
    "                    label=\"I\"\n",
    "                    eq_ent=et\n",
    "                    eq_ent_prev=ent_prev[idxet]\n",
    "                    eq_ent_next=ent_next[idxet]\n",
    "                    connector=' === '\n",
    "        \n",
    "        #text_file.write(t + ' ' + label + connector + eq_ent_prev + \" \" + eq_ent + \" \" + eq_ent_next + \" \" '\\n')\n",
    "        text_file.write(t + ' ' + label + '\\n')\n",
    "        \n",
    "print(\"done\")"
   ]
  },
  {
   "cell_type": "raw",
   "metadata": {},
   "source": [
    "with open(\"label.txt\", \"w\") as text_file:    \n",
    "    for idxet, et in enumerate(ent):\n",
    "        text_file.write(ent_prev[idxet] + ' ' + et + ' ' + ent_next[idxet] + '\\n')"
   ]
  },
  {
   "cell_type": "raw",
   "metadata": {},
   "source": [
    "with open(\"token.txt\", \"w\") as text_file:    \n",
    "    for idxt, t in enumerate(token):\n",
    "        text_file.write(prv[idxt] + ' ' + t + ' ' + nxt[idxt] + '\\n')"
   ]
  },
  {
   "cell_type": "raw",
   "metadata": {},
   "source": [
    "print(ent[887])"
   ]
  },
  {
   "cell_type": "raw",
   "metadata": {},
   "source": [
    " for idxt, t in enumerate(token):\n",
    "        label=\"O\"\n",
    "        eq_ent=\"\"\n",
    "        eq_ent_prev=\"\"\n",
    "        eq_ent_next=\"\"\n",
    "        eq_idxet=0\n",
    "    \n",
    "        for idxet, et in enumerate(ent):\n",
    "            if t == et:\n",
    "                if (prv[idxt]==ent_prev[idxet]) & (nxt[idxt]==ent_next[idxet]):\n",
    "                    label=\"I\"\n",
    "                    eq_ent=et\n",
    "                    eq_ent_prev=ent_prev[idxet]\n",
    "                    eq_ent_next=ent_next[idxet]\n",
    "                    eq_idxet=idxet\n",
    "        \n",
    "        print(t + ' ' + label + ' : ' + eq_ent_prev + \" \" + eq_ent + \" \" + eq_ent_next + \" \" + str(eq_idxet) + '\\n')                    "
   ]
  }
 ],
 "metadata": {
  "kernelspec": {
   "display_name": "Python 3",
   "language": "python",
   "name": "python3"
  },
  "language_info": {
   "codemirror_mode": {
    "name": "ipython",
    "version": 3
   },
   "file_extension": ".py",
   "mimetype": "text/x-python",
   "name": "python",
   "nbconvert_exporter": "python",
   "pygments_lexer": "ipython3",
   "version": "3.6.4"
  }
 },
 "nbformat": 4,
 "nbformat_minor": 2
}
